{
  "nbformat": 4,
  "nbformat_minor": 0,
  "metadata": {
    "colab": {
      "name": "Untitled0.ipynb",
      "provenance": [],
      "authorship_tag": "ABX9TyODfMeJytyXDYYS6+yLNef8",
      "include_colab_link": true
    },
    "kernelspec": {
      "name": "python3",
      "display_name": "Python 3"
    }
  },
  "cells": [
    {
      "cell_type": "markdown",
      "metadata": {
        "id": "view-in-github",
        "colab_type": "text"
      },
      "source": [
        "<a href=\"https://colab.research.google.com/github/karthikeyan12068/IEEE-project/blob/main/Untitled0.ipynb\" target=\"_parent\"><img src=\"https://colab.research.google.com/assets/colab-badge.svg\" alt=\"Open In Colab\"/></a>"
      ]
    },
    {
      "cell_type": "code",
      "metadata": {
        "id": "0IMNf6Dkve8S"
      },
      "source": [
        "import numpy as np\r\n",
        "import pandas as pd\r\n",
        "import seaborn as sns\r\n",
        "import matplotlib.pyplot as plt"
      ],
      "execution_count": 1,
      "outputs": []
    },
    {
      "cell_type": "code",
      "metadata": {
        "id": "2wRXbzJqwZQd"
      },
      "source": [
        "%matplotlib inline\r\n",
        "from sklearn.datasets import load_boston\r\n",
        "from sklearn.model_selection import train_test_split\r\n",
        "from sklearn.linear_model import LinearRegression\r\n",
        "from sklearn.metrics import mean_absolute_error,mean_squared_error"
      ],
      "execution_count": null,
      "outputs": []
    },
    {
      "cell_type": "code",
      "metadata": {
        "id": "7egD6O83wblg"
      },
      "source": [
        "boston=load_boston()\r\n",
        "boston.DESCR"
      ],
      "execution_count": null,
      "outputs": []
    },
    {
      "cell_type": "code",
      "metadata": {
        "id": "Ubx3SJe1wen2"
      },
      "source": [
        "boston.feature_names"
      ],
      "execution_count": null,
      "outputs": []
    },
    {
      "cell_type": "code",
      "metadata": {
        "id": "YpuELbqMwhXH"
      },
      "source": [
        "boston.target"
      ],
      "execution_count": null,
      "outputs": []
    },
    {
      "cell_type": "code",
      "metadata": {
        "id": "5tx8BFcxwj3a"
      },
      "source": [
        "data=boston.data\r\n",
        "data.shape"
      ],
      "execution_count": null,
      "outputs": []
    },
    {
      "cell_type": "code",
      "metadata": {
        "id": "TJ3DxLk3wm8p"
      },
      "source": [
        "data=pd.DataFrame(data=data,columns=boston.feature_names)\r\n",
        "data.head()"
      ],
      "execution_count": null,
      "outputs": []
    },
    {
      "cell_type": "code",
      "metadata": {
        "id": "WDnvb3W8wpBe"
      },
      "source": [
        "data['Price']=boston.target\r\n",
        "data.head()"
      ],
      "execution_count": null,
      "outputs": []
    },
    {
      "cell_type": "code",
      "metadata": {
        "id": "jY-HN2CGwrRj"
      },
      "source": [
        "data.describe()"
      ],
      "execution_count": null,
      "outputs": []
    },
    {
      "cell_type": "code",
      "metadata": {
        "id": "bFhFByUpwvoU"
      },
      "source": [
        "sns.pairplot(data)"
      ],
      "execution_count": null,
      "outputs": []
    },
    {
      "cell_type": "code",
      "metadata": {
        "id": "475aLZy4wxrC"
      },
      "source": [
        "rows=2\r\n",
        "cols=7\r\n",
        "fig, ax=plt.subplots(nrows=rows,ncols=cols,figsize=(16,4))\r\n",
        "plt.tight_layout()\r\n",
        "col=data.columns\r\n",
        "index=0\r\n",
        "for i in range(rows):\r\n",
        "    for j in range(cols):\r\n",
        "        sns.distplot(data[col[index]],ax=ax[i][j])\r\n",
        "        index+=1\r\n",
        "plt.tight_layout()"
      ],
      "execution_count": null,
      "outputs": []
    },
    {
      "cell_type": "code",
      "metadata": {
        "id": "NpAv91OBw0YS"
      },
      "source": [
        "corrmat=data.corr()\r\n",
        "corrmat"
      ],
      "execution_count": null,
      "outputs": []
    },
    {
      "cell_type": "code",
      "metadata": {
        "id": "3q56RJ_qw2qV"
      },
      "source": [
        "fig,ax=plt.subplots(figsize=(18,10))\r\n",
        "sns.heatmap(corrmat,annot=True,annot_kws={'size':12})"
      ],
      "execution_count": null,
      "outputs": []
    },
    {
      "cell_type": "code",
      "metadata": {
        "id": "mUcx-ReJw6nX"
      },
      "source": [
        "def getCorrelatedFeature(corrdata,threshold):\r\n",
        "    feature=[]\r\n",
        "    value=[]\r\n",
        "    for i,index in enumerate(corrdata.index):\r\n",
        "        if abs(corrdata[index])>threshold:\r\n",
        "            feature.append(index)\r\n",
        "            value.append(corrdata[index])\r\n",
        "    df=pd.DataFrame(data=value,index=feature,columns=['corrvalue'])\r\n",
        "    return df\r\n",
        "threshold=0.50\r\n",
        "corr_value=getCorrelatedFeature(corrmat['Price'],threshold)\r\n",
        "corr_value"
      ],
      "execution_count": null,
      "outputs": []
    },
    {
      "cell_type": "code",
      "metadata": {
        "id": "_l_y7FLqw9QB"
      },
      "source": [
        "corr_value.index.values"
      ],
      "execution_count": null,
      "outputs": []
    },
    {
      "cell_type": "code",
      "metadata": {
        "id": "Bi7P-9M0w_ip"
      },
      "source": [
        "correlated_data=data[corr_value.index]\r\n",
        "correlated_data.head()"
      ],
      "execution_count": null,
      "outputs": []
    },
    {
      "cell_type": "code",
      "metadata": {
        "id": "XCFhOEGlxCDT"
      },
      "source": [
        "sns.pairplot(correlated_data)"
      ],
      "execution_count": null,
      "outputs": []
    },
    {
      "cell_type": "code",
      "metadata": {
        "id": "IahAf1eGxEbO"
      },
      "source": [
        "sns.heatmap(correlated_data.corr(),annot=True,annot_kws={'size':12})"
      ],
      "execution_count": null,
      "outputs": []
    },
    {
      "cell_type": "code",
      "metadata": {
        "id": "ghaiecJgxHge"
      },
      "source": [
        "X=correlated_data.drop(labels=['Price'],axis=1)\r\n",
        "y=correlated_data['Price']\r\n",
        "X.head()"
      ],
      "execution_count": null,
      "outputs": []
    },
    {
      "cell_type": "code",
      "metadata": {
        "id": "eaGWmQwAxJ6X"
      },
      "source": [
        "X_train,X_test,y_train,y_test=train_test_split(X,y,test_size=0.2,random_state=0)\r\n",
        "model=LinearRegression()\r\n",
        "model.fit(X_train,y_train)\r\n",
        "y_predict=model.predict(X_test)\r\n",
        "df=pd.DataFrame(data=[y_predict,y_test])\r\n",
        "df"
      ],
      "execution_count": null,
      "outputs": []
    },
    {
      "cell_type": "code",
      "metadata": {
        "id": "4vKuUJfDxMqy"
      },
      "source": [
        "from sklearn.metrics import r2_score\r\n",
        "score=r2_score(y_test,y_predict)\r\n",
        "mae=mean_absolute_error(y_test,y_predict)\r\n",
        "mse=mean_squared_error(y_test,y_predict)\r\n",
        "total_features=[]\r\n",
        "total_features_name=[]\r\n",
        "selected_correlation_value=[]\r\n",
        "r2_scores=[]\r\n",
        "mae_value=[]\r\n",
        "mse_value=[]"
      ],
      "execution_count": null,
      "outputs": []
    },
    {
      "cell_type": "code",
      "metadata": {
        "id": "7FbehZrsxPMs"
      },
      "source": [
        "def performance_metrics(features,th,y_true,y_pred):\r\n",
        "    score=r2_score(y_true,y_pred)\r\n",
        "    mae=mean_absolute_error(y_true,y_pred)\r\n",
        "    mse=mean_squared_error(y_true,y_pred)\r\n",
        "    total_features.append(len(features)-1)\r\n",
        "    total_features_name.append(str(features))\r\n",
        "    r2_scores.append(score)\r\n",
        "    mae_value.append(mae)\r\n",
        "    mse_value.append(mse)\r\n",
        "    metrics_dataframe=pd.DataFrame(data=[total_features_name,total_features,selected_correlation_value,r2_scores,mae_value,mse_value],columns=['featues_names','features','corr_value','r2_score','MAE','MSE'])\r\n",
        "    return metrics_dataframe.T\r\n",
        "performance_metrics(correlated_data.columns.values,threshold,y_test,y_predict)"
      ],
      "execution_count": null,
      "outputs": []
    },
    {
      "cell_type": "code",
      "metadata": {
        "id": "PKdHUd2ExUfh"
      },
      "source": [
        "rows=2\r\n",
        "cols=2\r\n",
        "fig,ax=plt.subplots(nrows=rows,ncols=cols,figsize=(16,4))\r\n",
        "col=correlated_data.columns\r\n",
        "index=0\r\n",
        "for i in range(rows):\r\n",
        "    for j in range(cols):\r\n",
        "        sns.regplot(x=correlated_data[col[index]],y=correlated_data['Price'],ax=ax[i][j])\r\n",
        "        index+=1\r\n",
        "fig.tight_layout()"
      ],
      "execution_count": null,
      "outputs": []
    }
  ]
}